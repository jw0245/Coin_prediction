{
 "cells": [
  {
   "cell_type": "code",
   "execution_count": 1,
   "metadata": {
    "scrolled": true
   },
   "outputs": [],
   "source": [
    "import tensorflow as tf\n",
    "from tensorflow.keras.models import Sequential\n",
    "from tensorflow.keras.layers import LSTM, Dropout, Dense, Activation"
   ]
  },
  {
   "cell_type": "code",
   "execution_count": 2,
   "metadata": {},
   "outputs": [],
   "source": [
    "import pandas as pd\n",
    "import numpy as np\n",
    "import matplotlib.pyplot as plt\n",
    "import datetime"
   ]
  },
  {
   "cell_type": "code",
   "execution_count": 3,
   "metadata": {},
   "outputs": [
    {
     "data": {
      "text/plain": [
       "[name: \"/device:CPU:0\"\n",
       " device_type: \"CPU\"\n",
       " memory_limit: 268435456\n",
       " locality {\n",
       " }\n",
       " incarnation: 10702652846214539414]"
      ]
     },
     "execution_count": 3,
     "metadata": {},
     "output_type": "execute_result"
    }
   ],
   "source": [
    "from tensorflow.python.client import device_lib\n",
    "device_lib.list_local_devices()"
   ]
  },
  {
   "cell_type": "code",
   "execution_count": 4,
   "metadata": {},
   "outputs": [
    {
     "data": {
      "text/html": [
       "<div>\n",
       "<style scoped>\n",
       "    .dataframe tbody tr th:only-of-type {\n",
       "        vertical-align: middle;\n",
       "    }\n",
       "\n",
       "    .dataframe tbody tr th {\n",
       "        vertical-align: top;\n",
       "    }\n",
       "\n",
       "    .dataframe thead th {\n",
       "        text-align: right;\n",
       "    }\n",
       "</style>\n",
       "<table border=\"1\" class=\"dataframe\">\n",
       "  <thead>\n",
       "    <tr style=\"text-align: right;\">\n",
       "      <th></th>\n",
       "      <th>날짜</th>\n",
       "      <th>시가</th>\n",
       "      <th>고가</th>\n",
       "      <th>저가</th>\n",
       "      <th>종가</th>\n",
       "      <th>거래량</th>\n",
       "      <th>시가총액</th>\n",
       "    </tr>\n",
       "  </thead>\n",
       "  <tbody>\n",
       "    <tr>\n",
       "      <th>1090</th>\n",
       "      <td>30-Mar-21</td>\n",
       "      <td>102.73</td>\n",
       "      <td>119.43</td>\n",
       "      <td>102.72</td>\n",
       "      <td>111.63</td>\n",
       "      <td>\\229,362,666,554</td>\n",
       "      <td>\\305,655,135,725</td>\n",
       "    </tr>\n",
       "    <tr>\n",
       "      <th>1091</th>\n",
       "      <td>31-Mar-21</td>\n",
       "      <td>112.61</td>\n",
       "      <td>140.07</td>\n",
       "      <td>109.94</td>\n",
       "      <td>130.17</td>\n",
       "      <td>\\503,803,529,611</td>\n",
       "      <td>\\356,424,611,490</td>\n",
       "    </tr>\n",
       "    <tr>\n",
       "      <th>1092</th>\n",
       "      <td>01-Apr-21</td>\n",
       "      <td>130.17</td>\n",
       "      <td>277.06</td>\n",
       "      <td>127.18</td>\n",
       "      <td>273.11</td>\n",
       "      <td>\\2,256,586,556,340</td>\n",
       "      <td>\\747,797,814,365</td>\n",
       "    </tr>\n",
       "    <tr>\n",
       "      <th>1093</th>\n",
       "      <td>02-Apr-21</td>\n",
       "      <td>267.53</td>\n",
       "      <td>398.55</td>\n",
       "      <td>267.53</td>\n",
       "      <td>298.93</td>\n",
       "      <td>\\1,629,150,393,198</td>\n",
       "      <td>\\818,506,251,680</td>\n",
       "    </tr>\n",
       "    <tr>\n",
       "      <th>1094</th>\n",
       "      <td>03-Apr-21</td>\n",
       "      <td>299.90</td>\n",
       "      <td>327.75</td>\n",
       "      <td>272.89</td>\n",
       "      <td>286.96</td>\n",
       "      <td>\\586,518,672,303</td>\n",
       "      <td>\\785,724,654,933</td>\n",
       "    </tr>\n",
       "  </tbody>\n",
       "</table>\n",
       "</div>"
      ],
      "text/plain": [
       "             날짜      시가      고가      저가      종가                 거래량  \\\n",
       "1090  30-Mar-21  102.73  119.43  102.72  111.63    \\229,362,666,554   \n",
       "1091  31-Mar-21  112.61  140.07  109.94  130.17    \\503,803,529,611   \n",
       "1092  01-Apr-21  130.17  277.06  127.18  273.11  \\2,256,586,556,340   \n",
       "1093  02-Apr-21  267.53  398.55  267.53  298.93  \\1,629,150,393,198   \n",
       "1094  03-Apr-21  299.90  327.75  272.89  286.96    \\586,518,672,303   \n",
       "\n",
       "                  시가총액  \n",
       "1090  \\305,655,135,725  \n",
       "1091  \\356,424,611,490  \n",
       "1092  \\747,797,814,365  \n",
       "1093  \\818,506,251,680  \n",
       "1094  \\785,724,654,933  "
      ]
     },
     "execution_count": 4,
     "metadata": {},
     "output_type": "execute_result"
    }
   ],
   "source": [
    "df = pd.read_csv('data/medibloc(2018~2021).csv', encoding='cp949')\n",
    "df.tail()"
   ]
  },
  {
   "cell_type": "code",
   "execution_count": 5,
   "metadata": {},
   "outputs": [],
   "source": [
    "# 당일 중간가격 구하기\n",
    "high_prices = df['고가'].values\n",
    "low_prices = df['저가'].values\n",
    "mid_prices = (high_prices+low_prices)/2 "
   ]
  },
  {
   "cell_type": "code",
   "execution_count": 6,
   "metadata": {},
   "outputs": [],
   "source": [
    "# 최근 30일을 기준으로 다음날 가격을 예측\n",
    "seq_len = 30\n",
    "sequence_length = seq_len + 1\n",
    "\n",
    "result = []\n",
    "for index in range(len(mid_prices) - sequence_length):\n",
    "    result.append(mid_prices[index: index + sequence_length])"
   ]
  },
  {
   "cell_type": "code",
   "execution_count": 7,
   "metadata": {},
   "outputs": [],
   "source": [
    "# 정규화\n",
    "normalized_data = []\n",
    "for window in result:\n",
    "    normalized_window = [((float(p) / float(window[0])) - 1) for p in window]\n",
    "    normalized_data.append(normalized_window)\n",
    "\n",
    "result = np.array(normalized_data)"
   ]
  },
  {
   "cell_type": "code",
   "execution_count": 8,
   "metadata": {},
   "outputs": [
    {
     "data": {
      "text/plain": [
       "((958, 30, 1), (106, 30, 1))"
      ]
     },
     "execution_count": 8,
     "metadata": {},
     "output_type": "execute_result"
    }
   ],
   "source": [
    "# split train and test data\n",
    "row = int(round(result.shape[0] * 0.9))\n",
    "train = result[:row, :]\n",
    "np.random.shuffle(train)\n",
    "\n",
    "x_train = train[:, :-1]\n",
    "x_train = np.reshape(x_train, (x_train.shape[0], x_train.shape[1], 1))\n",
    "y_train = train[:, -1]\n",
    "\n",
    "x_test = result[row:, :-1]\n",
    "x_test = np.reshape(x_test, (x_test.shape[0], x_test.shape[1], 1))\n",
    "y_test = result[row:, -1]\n",
    "\n",
    "x_train.shape, x_test.shape"
   ]
  },
  {
   "cell_type": "code",
   "execution_count": 9,
   "metadata": {},
   "outputs": [
    {
     "name": "stdout",
     "output_type": "stream",
     "text": [
      "Model: \"sequential\"\n",
      "_________________________________________________________________\n",
      "Layer (type)                 Output Shape              Param #   \n",
      "=================================================================\n",
      "lstm (LSTM)                  (None, 30, 255)           262140    \n",
      "_________________________________________________________________\n",
      "lstm_1 (LSTM)                (None, 64)                81920     \n",
      "_________________________________________________________________\n",
      "dense (Dense)                (None, 64)                4160      \n",
      "_________________________________________________________________\n",
      "dense_1 (Dense)              (None, 32)                2080      \n",
      "_________________________________________________________________\n",
      "dense_2 (Dense)              (None, 1)                 33        \n",
      "=================================================================\n",
      "Total params: 350,333\n",
      "Trainable params: 350,333\n",
      "Non-trainable params: 0\n",
      "_________________________________________________________________\n"
     ]
    }
   ],
   "source": [
    "# LSTM  모델구현\n",
    "\n",
    "model = Sequential()\n",
    "\n",
    "model.add(LSTM(255, return_sequences=True, input_shape=(30, 1)))\n",
    "\n",
    "model.add(LSTM(64, return_sequences=False))\n",
    "\n",
    "model.add(Dense(64, activation='relu'))\n",
    "\n",
    "model.add(Dense(32, activation='relu'))\n",
    "\n",
    "model.add(Dense(1, activation='linear'))\n",
    "\n",
    "model.compile(loss='mse', optimizer='rmsprop')\n",
    "\n",
    "model.summary()"
   ]
  },
  {
   "cell_type": "code",
   "execution_count": 10,
   "metadata": {},
   "outputs": [],
   "source": [
    "# Early Stopping\n",
    "es = tf.keras.callbacks.EarlyStopping(monitor='val_loss',\n",
    "                                       patience=10,\n",
    "                                       verbose=1,\n",
    "                                       mode='auto')"
   ]
  },
  {
   "cell_type": "code",
   "execution_count": 11,
   "metadata": {},
   "outputs": [
    {
     "name": "stdout",
     "output_type": "stream",
     "text": [
      "Epoch 1/100\n",
      "96/96 [==============================] - 8s 47ms/step - loss: 0.0537 - val_loss: 7.4558\n",
      "Epoch 2/100\n",
      "96/96 [==============================] - 2s 20ms/step - loss: 0.0188 - val_loss: 6.3215\n",
      "Epoch 3/100\n",
      "96/96 [==============================] - 2s 20ms/step - loss: 0.0099 - val_loss: 4.6322\n",
      "Epoch 4/100\n",
      "96/96 [==============================] - 2s 19ms/step - loss: 0.0082 - val_loss: 4.1007\n",
      "Epoch 5/100\n",
      "96/96 [==============================] - 2s 20ms/step - loss: 0.0059 - val_loss: 4.0323\n",
      "Epoch 6/100\n",
      "96/96 [==============================] - 2s 20ms/step - loss: 0.0056 - val_loss: 5.2659\n",
      "Epoch 7/100\n",
      "96/96 [==============================] - 2s 20ms/step - loss: 0.0048 - val_loss: 4.4529\n",
      "Epoch 8/100\n",
      "96/96 [==============================] - 2s 20ms/step - loss: 0.0047 - val_loss: 3.8775\n",
      "Epoch 9/100\n",
      "96/96 [==============================] - 2s 20ms/step - loss: 0.0045 - val_loss: 4.8648\n",
      "Epoch 10/100\n",
      "96/96 [==============================] - 2s 20ms/step - loss: 0.0042 - val_loss: 3.7145\n",
      "Epoch 11/100\n",
      "96/96 [==============================] - 2s 20ms/step - loss: 0.0041 - val_loss: 4.0236\n",
      "Epoch 12/100\n",
      "96/96 [==============================] - 2s 20ms/step - loss: 0.0052 - val_loss: 4.5822\n",
      "Epoch 13/100\n",
      "96/96 [==============================] - 2s 20ms/step - loss: 0.0063 - val_loss: 3.5638\n",
      "Epoch 14/100\n",
      "96/96 [==============================] - 2s 20ms/step - loss: 0.0047 - val_loss: 4.0209\n",
      "Epoch 15/100\n",
      "96/96 [==============================] - 2s 19ms/step - loss: 0.0043 - val_loss: 2.7722\n",
      "Epoch 16/100\n",
      "96/96 [==============================] - 2s 20ms/step - loss: 0.0064 - val_loss: 3.2313\n",
      "Epoch 17/100\n",
      "96/96 [==============================] - 2s 21ms/step - loss: 0.0046 - val_loss: 4.2948\n",
      "Epoch 18/100\n",
      "96/96 [==============================] - 2s 22ms/step - loss: 0.0054 - val_loss: 4.0436\n",
      "Epoch 19/100\n",
      "96/96 [==============================] - 2s 23ms/step - loss: 0.0046 - val_loss: 3.7279\n",
      "Epoch 20/100\n",
      "96/96 [==============================] - 2s 21ms/step - loss: 0.0045 - val_loss: 3.6005\n",
      "Epoch 21/100\n",
      "96/96 [==============================] - 2s 21ms/step - loss: 0.0045 - val_loss: 4.3947\n",
      "Epoch 22/100\n",
      "96/96 [==============================] - 2s 21ms/step - loss: 0.0060 - val_loss: 3.8587\n",
      "Epoch 23/100\n",
      "96/96 [==============================] - 2s 21ms/step - loss: 0.0047 - val_loss: 4.2826\n",
      "Epoch 24/100\n",
      "96/96 [==============================] - 2s 21ms/step - loss: 0.0040 - val_loss: 4.4856\n",
      "Epoch 25/100\n",
      "96/96 [==============================] - 2s 20ms/step - loss: 0.0042 - val_loss: 4.2061\n",
      "Epoch 00025: early stopping\n"
     ]
    }
   ],
   "source": [
    "history = model.fit(x_train, y_train,\n",
    "                validation_data=(x_test, y_test),\n",
    "                batch_size=10,\n",
    "                epochs=100,\n",
    "                callbacks=es)"
   ]
  },
  {
   "cell_type": "code",
   "execution_count": 12,
   "metadata": {},
   "outputs": [
    {
     "name": "stdout",
     "output_type": "stream",
     "text": [
      "4/4 [==============================] - 0s 18ms/step - loss: 4.2061\n"
     ]
    },
    {
     "data": {
      "text/plain": [
       "4.206089973449707"
      ]
     },
     "execution_count": 12,
     "metadata": {},
     "output_type": "execute_result"
    }
   ],
   "source": [
    "model.evaluate(x_test, y_test)"
   ]
  },
  {
   "cell_type": "code",
   "execution_count": 13,
   "metadata": {},
   "outputs": [
    {
     "data": {
      "image/png": "[encoded data removed]",
      "text/plain": [
       "<Figure size 864x576 with 1 Axes>"
      ]
     },
     "metadata": {
      "needs_background": "light"
     },
     "output_type": "display_data"
    }
   ],
   "source": [
    "plt.figure(figsize=(12,8))\n",
    "plt.plot(history.history['loss'])\n",
    "plt.plot(history.history['val_loss'])\n",
    "# plt.plot(history.history['mae'])\n",
    "# plt.plot(history.history['val_mae'])\n",
    "plt.show()"
   ]
  },
  {
   "cell_type": "code",
   "execution_count": 14,
   "metadata": {},
   "outputs": [],
   "source": [
    "pred = model.predict(x_test)"
   ]
  },
  {
   "cell_type": "code",
   "execution_count": 15,
   "metadata": {},
   "outputs": [
    {
     "data": {
      "text/plain": [
       "1.62729912875121"
      ]
     },
     "execution_count": 15,
     "metadata": {},
     "output_type": "execute_result"
    }
   ],
   "source": [
    "y_test[67]"
   ]
  },
  {
   "cell_type": "code",
   "execution_count": 16,
   "metadata": {},
   "outputs": [
    {
     "data": {
      "image/png": "[encoded data removed]",
      "text/plain": [
       "<Figure size 1440x720 with 1 Axes>"
      ]
     },
     "metadata": {},
     "output_type": "display_data"
    }
   ],
   "source": [
    "fig = plt.figure(facecolor='white',figsize=(20,10))\n",
    "ax = fig.add_subplot(1,1,1)\n",
    "ax.plot(y_test,label='True')\n",
    "ax.plot(pred, label='prediction')\n",
    "ax.legend()\n",
    "plt.show()"
   ]
  }
 ],
 "metadata": {
  "kernelspec": {
   "display_name": "Python 3",
   "language": "python",
   "name": "python3"
  },
  "language_info": {
   "codemirror_mode": {
    "name": "ipython",
    "version": 3
   },
   "file_extension": ".py",
   "mimetype": "text/x-python",
   "name": "python",
   "nbconvert_exporter": "python",
   "pygments_lexer": "ipython3",
   "version": "3.8.5"
  }
 },
 "nbformat": 4,
 "nbformat_minor": 5
}
