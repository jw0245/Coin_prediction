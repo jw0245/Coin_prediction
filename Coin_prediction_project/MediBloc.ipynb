{
 "cells": [
  {
   "cell_type": "code",
   "execution_count": 1,
   "metadata": {
    "scrolled": true
   },
   "outputs": [],
   "source": [
    "import tensorflow as tf\n",
    "from tensorflow.keras.models import Sequential\n",
    "from tensorflow.keras.layers import LSTM, Dropout, Dense, Activation"
   ]
  },
  {
   "cell_type": "code",
   "execution_count": 2,
   "metadata": {},
   "outputs": [],
   "source": [
    "import pandas as pd\n",
    "import numpy as np\n",
    "import matplotlib.pyplot as plt\n",
    "import datetime"
   ]
  },
  {
   "cell_type": "code",
   "execution_count": 3,
   "metadata": {},
   "outputs": [
    {
     "data": {
      "text/plain": [
       "[name: \"/device:CPU:0\"\n",
       " device_type: \"CPU\"\n",
       " memory_limit: 268435456\n",
       " locality {\n",
       " }\n",
       " incarnation: 15116890355622651208]"
      ]
     },
     "execution_count": 3,
     "metadata": {},
     "output_type": "execute_result"
    }
   ],
   "source": [
    "from tensorflow.python.client import device_lib\n",
    "device_lib.list_local_devices()"
   ]
  },
  {
   "cell_type": "code",
   "execution_count": 4,
   "metadata": {},
   "outputs": [
    {
     "data": {
      "text/html": [
       "<div>\n",
       "<style scoped>\n",
       "    .dataframe tbody tr th:only-of-type {\n",
       "        vertical-align: middle;\n",
       "    }\n",
       "\n",
       "    .dataframe tbody tr th {\n",
       "        vertical-align: top;\n",
       "    }\n",
       "\n",
       "    .dataframe thead th {\n",
       "        text-align: right;\n",
       "    }\n",
       "</style>\n",
       "<table border=\"1\" class=\"dataframe\">\n",
       "  <thead>\n",
       "    <tr style=\"text-align: right;\">\n",
       "      <th></th>\n",
       "      <th>날짜</th>\n",
       "      <th>시가</th>\n",
       "      <th>고가</th>\n",
       "      <th>저가</th>\n",
       "      <th>종가</th>\n",
       "      <th>거래량</th>\n",
       "      <th>시가총액</th>\n",
       "    </tr>\n",
       "  </thead>\n",
       "  <tbody>\n",
       "    <tr>\n",
       "      <th>0</th>\n",
       "      <td>04-Apr-20</td>\n",
       "      <td>2.93</td>\n",
       "      <td>2.96</td>\n",
       "      <td>2.86</td>\n",
       "      <td>2.91</td>\n",
       "      <td>156,557,373</td>\n",
       "      <td>7,257,735,356</td>\n",
       "    </tr>\n",
       "    <tr>\n",
       "      <th>1</th>\n",
       "      <td>05-Apr-20</td>\n",
       "      <td>2.92</td>\n",
       "      <td>2.94</td>\n",
       "      <td>2.85</td>\n",
       "      <td>2.88</td>\n",
       "      <td>111,694,036</td>\n",
       "      <td>7,171,533,960</td>\n",
       "    </tr>\n",
       "    <tr>\n",
       "      <th>2</th>\n",
       "      <td>06-Apr-20</td>\n",
       "      <td>2.88</td>\n",
       "      <td>3.05</td>\n",
       "      <td>2.85</td>\n",
       "      <td>3.05</td>\n",
       "      <td>305,791,568</td>\n",
       "      <td>7,614,393,498</td>\n",
       "    </tr>\n",
       "    <tr>\n",
       "      <th>3</th>\n",
       "      <td>07-Apr-20</td>\n",
       "      <td>3.05</td>\n",
       "      <td>3.08</td>\n",
       "      <td>2.94</td>\n",
       "      <td>2.97</td>\n",
       "      <td>293,938,261</td>\n",
       "      <td>7,418,205,862</td>\n",
       "    </tr>\n",
       "    <tr>\n",
       "      <th>4</th>\n",
       "      <td>08-Apr-20</td>\n",
       "      <td>2.97</td>\n",
       "      <td>3.07</td>\n",
       "      <td>2.95</td>\n",
       "      <td>3.02</td>\n",
       "      <td>157,477,523</td>\n",
       "      <td>7,535,574,853</td>\n",
       "    </tr>\n",
       "  </tbody>\n",
       "</table>\n",
       "</div>"
      ],
      "text/plain": [
       "          날짜    시가    고가    저가    종가          거래량           시가총액\n",
       "0  04-Apr-20  2.93  2.96  2.86  2.91  156,557,373  7,257,735,356\n",
       "1  05-Apr-20  2.92  2.94  2.85  2.88  111,694,036  7,171,533,960\n",
       "2  06-Apr-20  2.88  3.05  2.85  3.05  305,791,568  7,614,393,498\n",
       "3  07-Apr-20  3.05  3.08  2.94  2.97  293,938,261  7,418,205,862\n",
       "4  08-Apr-20  2.97  3.07  2.95  3.02  157,477,523  7,535,574,853"
      ]
     },
     "execution_count": 4,
     "metadata": {},
     "output_type": "execute_result"
    }
   ],
   "source": [
    "df = pd.read_csv('data/medibloc.csv', encoding='cp949')\n",
    "df.head()"
   ]
  },
  {
   "cell_type": "code",
   "execution_count": 5,
   "metadata": {},
   "outputs": [],
   "source": [
    "# 당일 중간가격 구하기\n",
    "high_prices = df['고가'].values\n",
    "low_prices = df['저가'].values\n",
    "mid_prices = (high_prices+low_prices)/2 "
   ]
  },
  {
   "cell_type": "code",
   "execution_count": 6,
   "metadata": {},
   "outputs": [
    {
     "data": {
      "text/plain": [
       "364"
      ]
     },
     "execution_count": 6,
     "metadata": {},
     "output_type": "execute_result"
    }
   ],
   "source": [
    "len(mid_prices)"
   ]
  },
  {
   "cell_type": "code",
   "execution_count": 7,
   "metadata": {},
   "outputs": [],
   "source": [
    "# 최근 7일을 기준으로 다음날 가격을 예측\n",
    "seq_len = 7\n",
    "squence_length = seq_len + 1\n",
    "result = []\n",
    "for index in range(len(mid_prices) - squence_length):\n",
    "    result.append(mid_prices[index: index + squence_length])"
   ]
  },
  {
   "cell_type": "code",
   "execution_count": 8,
   "metadata": {
    "scrolled": false
   },
   "outputs": [
    {
     "data": {
      "text/plain": [
       "array([2.91 , 2.895, 2.95 , 3.01 , 3.01 , 3.035, 2.92 , 2.835])"
      ]
     },
     "execution_count": 8,
     "metadata": {},
     "output_type": "execute_result"
    }
   ],
   "source": [
    "result[0]"
   ]
  },
  {
   "cell_type": "code",
   "execution_count": 9,
   "metadata": {},
   "outputs": [],
   "source": [
    "# 정규화\n",
    "normalized_data = []\n",
    "for window in result:\n",
    "    normalized_window = [((float(p)/float(window[0])) - 1)for p in window]\n",
    "    normalized_data.append(normalized_window)\n",
    "    \n",
    "result = np.array(normalized_data)"
   ]
  },
  {
   "cell_type": "code",
   "execution_count": 10,
   "metadata": {},
   "outputs": [
    {
     "data": {
      "text/plain": [
       "(356, 8)"
      ]
     },
     "execution_count": 10,
     "metadata": {},
     "output_type": "execute_result"
    }
   ],
   "source": [
    "result.shape"
   ]
  },
  {
   "cell_type": "code",
   "execution_count": 11,
   "metadata": {},
   "outputs": [
    {
     "data": {
      "text/plain": [
       "((320, 7, 1), (36, 7, 1), (320,), (36,))"
      ]
     },
     "execution_count": 11,
     "metadata": {},
     "output_type": "execute_result"
    }
   ],
   "source": [
    "#data split\n",
    "row = int(round(result.shape[0]*0.9))\n",
    "train = result[:row,:]\n",
    "np.random.shuffle(train)\n",
    "\n",
    "x_train = train[:,:-1]\n",
    "x_train = np.reshape(x_train, (x_train.shape[0], x_train.shape[1],1))\n",
    "y_train = train[:,-1]\n",
    "\n",
    "x_test = result[row:,:-1]\n",
    "x_test = np.reshape(x_test, (x_test.shape[0], x_test.shape[1],1))\n",
    "y_test = result[row:,-1]\n",
    "x_train.shape, x_test.shape, y_train.shape, y_test.shape"
   ]
  },
  {
   "cell_type": "code",
   "execution_count": 50,
   "metadata": {},
   "outputs": [
    {
     "name": "stdout",
     "output_type": "stream",
     "text": [
      "Model: \"sequential_9\"\n",
      "_________________________________________________________________\n",
      "Layer (type)                 Output Shape              Param #   \n",
      "=================================================================\n",
      "lstm_18 (LSTM)               (None, 7, 255)            262140    \n",
      "_________________________________________________________________\n",
      "lstm_19 (LSTM)               (None, 64)                81920     \n",
      "_________________________________________________________________\n",
      "dense_9 (Dense)              (None, 1)                 65        \n",
      "=================================================================\n",
      "Total params: 344,125\n",
      "Trainable params: 344,125\n",
      "Non-trainable params: 0\n",
      "_________________________________________________________________\n"
     ]
    }
   ],
   "source": [
    "# LSTM  모델구현\n",
    "model = Sequential()\n",
    "model.add(LSTM(255,return_sequences=True, input_shape=(7,1)))\n",
    "model.add(LSTM(64,return_sequences=False))\n",
    "model.add(Dense(1,activation='relu'))\n",
    "model.compile(optimizer='adam', loss='mse', metrics=['mae'])\n",
    "model.summary()"
   ]
  },
  {
   "cell_type": "code",
   "execution_count": 13,
   "metadata": {},
   "outputs": [],
   "source": [
    "# Early Stopping\n",
    "es = tf.keras.callbacks.EarlyStopping(monitor='val_loss',patience=10, verbose=1)"
   ]
  },
  {
   "cell_type": "code",
   "execution_count": 51,
   "metadata": {},
   "outputs": [
    {
     "name": "stdout",
     "output_type": "stream",
     "text": [
      "Epoch 1/500\n",
      "16/16 [==============================] - 4s 112ms/step - loss: 0.0621 - mae: 0.1128 - val_loss: 0.2801 - val_mae: 0.3831\n",
      "Epoch 2/500\n",
      "16/16 [==============================] - 0s 9ms/step - loss: 0.0390 - mae: 0.0805 - val_loss: 0.2538 - val_mae: 0.3605\n",
      "Epoch 3/500\n",
      "16/16 [==============================] - 0s 9ms/step - loss: 0.0193 - mae: 0.0725 - val_loss: 0.2124 - val_mae: 0.3192\n",
      "Epoch 4/500\n",
      "16/16 [==============================] - 0s 8ms/step - loss: 0.0294 - mae: 0.0806 - val_loss: 0.2267 - val_mae: 0.3363\n",
      "Epoch 5/500\n",
      "16/16 [==============================] - 0s 9ms/step - loss: 0.0258 - mae: 0.0722 - val_loss: 0.1948 - val_mae: 0.3029\n",
      "Epoch 6/500\n",
      "16/16 [==============================] - 0s 9ms/step - loss: 0.0097 - mae: 0.0574 - val_loss: 0.1198 - val_mae: 0.2244\n",
      "Epoch 7/500\n",
      "16/16 [==============================] - 0s 10ms/step - loss: 0.0162 - mae: 0.0689 - val_loss: 0.1526 - val_mae: 0.2641\n",
      "Epoch 8/500\n",
      "16/16 [==============================] - 0s 9ms/step - loss: 0.0223 - mae: 0.0623 - val_loss: 0.1435 - val_mae: 0.2520\n",
      "Epoch 9/500\n",
      "16/16 [==============================] - 0s 9ms/step - loss: 0.0283 - mae: 0.0738 - val_loss: 0.1288 - val_mae: 0.2365\n",
      "Epoch 10/500\n",
      "16/16 [==============================] - 0s 10ms/step - loss: 0.0156 - mae: 0.0613 - val_loss: 0.0985 - val_mae: 0.1978\n",
      "Epoch 11/500\n",
      "16/16 [==============================] - 0s 9ms/step - loss: 0.0393 - mae: 0.0734 - val_loss: 0.1220 - val_mae: 0.2295\n",
      "Epoch 12/500\n",
      "16/16 [==============================] - 0s 10ms/step - loss: 0.0094 - mae: 0.0602 - val_loss: 0.1121 - val_mae: 0.2163\n",
      "Epoch 13/500\n",
      "16/16 [==============================] - 0s 11ms/step - loss: 0.0301 - mae: 0.0736 - val_loss: 0.1183 - val_mae: 0.2265\n",
      "Epoch 14/500\n",
      "16/16 [==============================] - 0s 9ms/step - loss: 0.0181 - mae: 0.0623 - val_loss: 0.1017 - val_mae: 0.2045\n",
      "Epoch 15/500\n",
      "16/16 [==============================] - 0s 9ms/step - loss: 0.0370 - mae: 0.0672 - val_loss: 0.1133 - val_mae: 0.2199\n",
      "Epoch 16/500\n",
      "16/16 [==============================] - 0s 9ms/step - loss: 0.0185 - mae: 0.0585 - val_loss: 0.0926 - val_mae: 0.1927\n",
      "Epoch 17/500\n",
      "16/16 [==============================] - 0s 10ms/step - loss: 0.0132 - mae: 0.0605 - val_loss: 0.0951 - val_mae: 0.1969\n",
      "Epoch 18/500\n",
      "16/16 [==============================] - 0s 10ms/step - loss: 0.0169 - mae: 0.0622 - val_loss: 0.0923 - val_mae: 0.1929\n",
      "Epoch 19/500\n",
      "16/16 [==============================] - 0s 9ms/step - loss: 0.0174 - mae: 0.0621 - val_loss: 0.0925 - val_mae: 0.1917\n",
      "Epoch 20/500\n",
      "16/16 [==============================] - 0s 8ms/step - loss: 0.0265 - mae: 0.0664 - val_loss: 0.1008 - val_mae: 0.2046\n",
      "Epoch 21/500\n",
      "16/16 [==============================] - 0s 9ms/step - loss: 0.0285 - mae: 0.0642 - val_loss: 0.0983 - val_mae: 0.2033\n",
      "Epoch 22/500\n",
      "16/16 [==============================] - 0s 10ms/step - loss: 0.0208 - mae: 0.0617 - val_loss: 0.0958 - val_mae: 0.1988\n",
      "Epoch 23/500\n",
      "16/16 [==============================] - 0s 9ms/step - loss: 0.0127 - mae: 0.0526 - val_loss: 0.0872 - val_mae: 0.1899\n",
      "Epoch 24/500\n",
      "16/16 [==============================] - 0s 9ms/step - loss: 0.0132 - mae: 0.0637 - val_loss: 0.0889 - val_mae: 0.1934\n",
      "Epoch 25/500\n",
      "16/16 [==============================] - 0s 9ms/step - loss: 0.0138 - mae: 0.0577 - val_loss: 0.0962 - val_mae: 0.2037\n",
      "Epoch 26/500\n",
      "16/16 [==============================] - 0s 9ms/step - loss: 0.0224 - mae: 0.0643 - val_loss: 0.0986 - val_mae: 0.2111\n",
      "Epoch 27/500\n",
      "16/16 [==============================] - 0s 8ms/step - loss: 0.0179 - mae: 0.0582 - val_loss: 0.0799 - val_mae: 0.1812\n",
      "Epoch 28/500\n",
      "16/16 [==============================] - 0s 10ms/step - loss: 0.0107 - mae: 0.0558 - val_loss: 0.0882 - val_mae: 0.1958\n",
      "Epoch 29/500\n",
      "16/16 [==============================] - 0s 10ms/step - loss: 0.0120 - mae: 0.0557 - val_loss: 0.0810 - val_mae: 0.1848\n",
      "Epoch 30/500\n",
      "16/16 [==============================] - 0s 9ms/step - loss: 0.0248 - mae: 0.0651 - val_loss: 0.1032 - val_mae: 0.2192\n",
      "Epoch 31/500\n",
      "16/16 [==============================] - 0s 10ms/step - loss: 0.0098 - mae: 0.0537 - val_loss: 0.0874 - val_mae: 0.1973\n",
      "Epoch 32/500\n",
      "16/16 [==============================] - 0s 9ms/step - loss: 0.0079 - mae: 0.0528 - val_loss: 0.0781 - val_mae: 0.1808\n",
      "Epoch 33/500\n",
      "16/16 [==============================] - 0s 10ms/step - loss: 0.0104 - mae: 0.0539 - val_loss: 0.0795 - val_mae: 0.1874\n",
      "Epoch 34/500\n",
      "16/16 [==============================] - 0s 9ms/step - loss: 0.0292 - mae: 0.0690 - val_loss: 0.0803 - val_mae: 0.1889\n",
      "Epoch 35/500\n",
      "16/16 [==============================] - 0s 9ms/step - loss: 0.0167 - mae: 0.0569 - val_loss: 0.0823 - val_mae: 0.1941\n",
      "Epoch 36/500\n",
      "16/16 [==============================] - 0s 9ms/step - loss: 0.0158 - mae: 0.0569 - val_loss: 0.0699 - val_mae: 0.1750\n",
      "Epoch 37/500\n",
      "16/16 [==============================] - 0s 9ms/step - loss: 0.0328 - mae: 0.0676 - val_loss: 0.0855 - val_mae: 0.1994\n",
      "Epoch 38/500\n",
      "16/16 [==============================] - 0s 9ms/step - loss: 0.0135 - mae: 0.0562 - val_loss: 0.0746 - val_mae: 0.1854\n",
      "Epoch 39/500\n",
      "16/16 [==============================] - 0s 9ms/step - loss: 0.0147 - mae: 0.0517 - val_loss: 0.0749 - val_mae: 0.1852\n",
      "Epoch 40/500\n",
      "16/16 [==============================] - 0s 9ms/step - loss: 0.0084 - mae: 0.0511 - val_loss: 0.0679 - val_mae: 0.1736\n",
      "Epoch 41/500\n",
      "16/16 [==============================] - 0s 9ms/step - loss: 0.0112 - mae: 0.0531 - val_loss: 0.0704 - val_mae: 0.1796\n",
      "Epoch 42/500\n",
      "16/16 [==============================] - 0s 9ms/step - loss: 0.0099 - mae: 0.0542 - val_loss: 0.0689 - val_mae: 0.1767\n",
      "Epoch 43/500\n",
      "16/16 [==============================] - 0s 8ms/step - loss: 0.0075 - mae: 0.0505 - val_loss: 0.0797 - val_mae: 0.1951\n",
      "Epoch 44/500\n",
      "16/16 [==============================] - 0s 9ms/step - loss: 0.0210 - mae: 0.0615 - val_loss: 0.0607 - val_mae: 0.1664\n",
      "Epoch 45/500\n",
      "16/16 [==============================] - 0s 10ms/step - loss: 0.0181 - mae: 0.0588 - val_loss: 0.0784 - val_mae: 0.1958\n",
      "Epoch 46/500\n",
      "16/16 [==============================] - 0s 9ms/step - loss: 0.0181 - mae: 0.0560 - val_loss: 0.0654 - val_mae: 0.1751\n",
      "Epoch 47/500\n",
      "16/16 [==============================] - 0s 9ms/step - loss: 0.0097 - mae: 0.0486 - val_loss: 0.0683 - val_mae: 0.1838\n",
      "Epoch 48/500\n",
      "16/16 [==============================] - 0s 11ms/step - loss: 0.0320 - mae: 0.0732 - val_loss: 0.0627 - val_mae: 0.1667\n",
      "Epoch 49/500\n",
      "16/16 [==============================] - 0s 9ms/step - loss: 0.0135 - mae: 0.0619 - val_loss: 0.0651 - val_mae: 0.1772\n",
      "Epoch 50/500\n",
      "16/16 [==============================] - 0s 9ms/step - loss: 0.0104 - mae: 0.0524 - val_loss: 0.0648 - val_mae: 0.1774\n",
      "Epoch 51/500\n",
      "16/16 [==============================] - 0s 9ms/step - loss: 0.0101 - mae: 0.0563 - val_loss: 0.0604 - val_mae: 0.1672\n",
      "Epoch 52/500\n",
      "16/16 [==============================] - 0s 11ms/step - loss: 0.0079 - mae: 0.0497 - val_loss: 0.0702 - val_mae: 0.1870\n",
      "Epoch 53/500\n",
      "16/16 [==============================] - 0s 9ms/step - loss: 0.0079 - mae: 0.0551 - val_loss: 0.0619 - val_mae: 0.1714\n",
      "Epoch 54/500\n",
      "16/16 [==============================] - 0s 10ms/step - loss: 0.0126 - mae: 0.0618 - val_loss: 0.0622 - val_mae: 0.1752\n",
      "Epoch 55/500\n",
      "16/16 [==============================] - 0s 13ms/step - loss: 0.0100 - mae: 0.0523 - val_loss: 0.0659 - val_mae: 0.1828\n",
      "Epoch 56/500\n",
      "16/16 [==============================] - 0s 12ms/step - loss: 0.0099 - mae: 0.0521 - val_loss: 0.0559 - val_mae: 0.1633\n",
      "Epoch 57/500\n",
      "16/16 [==============================] - 0s 9ms/step - loss: 0.0119 - mae: 0.0610 - val_loss: 0.0588 - val_mae: 0.1706\n",
      "Epoch 58/500\n",
      "16/16 [==============================] - 0s 10ms/step - loss: 0.0131 - mae: 0.0606 - val_loss: 0.0630 - val_mae: 0.1781\n",
      "Epoch 59/500\n",
      "16/16 [==============================] - 0s 10ms/step - loss: 0.0115 - mae: 0.0562 - val_loss: 0.0607 - val_mae: 0.1736\n",
      "Epoch 60/500\n",
      "16/16 [==============================] - 0s 9ms/step - loss: 0.0290 - mae: 0.0705 - val_loss: 0.0637 - val_mae: 0.1800\n",
      "Epoch 61/500\n",
      "16/16 [==============================] - 0s 8ms/step - loss: 0.0077 - mae: 0.0526 - val_loss: 0.0658 - val_mae: 0.1821\n",
      "Epoch 62/500\n",
      "16/16 [==============================] - 0s 9ms/step - loss: 0.0232 - mae: 0.0623 - val_loss: 0.0684 - val_mae: 0.1878\n"
     ]
    },
    {
     "name": "stdout",
     "output_type": "stream",
     "text": [
      "Epoch 63/500\n",
      "16/16 [==============================] - 0s 9ms/step - loss: 0.0180 - mae: 0.0652 - val_loss: 0.0615 - val_mae: 0.1764\n",
      "Epoch 64/500\n",
      "16/16 [==============================] - 0s 10ms/step - loss: 0.0108 - mae: 0.0592 - val_loss: 0.0590 - val_mae: 0.1719\n",
      "Epoch 65/500\n",
      "16/16 [==============================] - 0s 10ms/step - loss: 0.0187 - mae: 0.0627 - val_loss: 0.0671 - val_mae: 0.1872\n",
      "Epoch 66/500\n",
      "16/16 [==============================] - 0s 9ms/step - loss: 0.0143 - mae: 0.0636 - val_loss: 0.0586 - val_mae: 0.1707\n",
      "Epoch 00066: early stopping\n"
     ]
    }
   ],
   "source": [
    "history = model.fit(x_train, y_train,\n",
    "          validation_data=(x_test, y_test),\n",
    "          batch_size=20, epochs=500, callbacks=es)"
   ]
  },
  {
   "cell_type": "code",
   "execution_count": 52,
   "metadata": {},
   "outputs": [
    {
     "name": "stdout",
     "output_type": "stream",
     "text": [
      "2/2 [==============================] - 0s 4ms/step - loss: 0.0586 - mae: 0.1707\n"
     ]
    },
    {
     "data": {
      "text/plain": [
       "[0.058640897274017334, 0.1707201898097992]"
      ]
     },
     "execution_count": 52,
     "metadata": {},
     "output_type": "execute_result"
    }
   ],
   "source": [
    "model.evaluate(x_test, y_test)"
   ]
  },
  {
   "cell_type": "code",
   "execution_count": 54,
   "metadata": {},
   "outputs": [
    {
     "data": {
      "image/png": "[encoded data removed]",
      "text/plain": [
       "<Figure size 864x576 with 1 Axes>"
      ]
     },
     "metadata": {
      "needs_background": "light"
     },
     "output_type": "display_data"
    }
   ],
   "source": [
    "plt.figure(figsize=(12,8))\n",
    "plt.plot(history.history['loss'])\n",
    "plt.plot(history.history['val_loss'])\n",
    "plt.plot(history.history['mae'])\n",
    "plt.plot(history.history['val_mae'])\n",
    "plt.show()"
   ]
  },
  {
   "cell_type": "code",
   "execution_count": 55,
   "metadata": {},
   "outputs": [
    {
     "name": "stdout",
     "output_type": "stream",
     "text": [
      "WARNING:tensorflow:6 out of the last 15 calls to <function Model.make_predict_function.<locals>.predict_function at 0x0000027F4E9D5040> triggered tf.function retracing. Tracing is expensive and the excessive number of tracings could be due to (1) creating @tf.function repeatedly in a loop, (2) passing tensors with different shapes, (3) passing Python objects instead of tensors. For (1), please define your @tf.function outside of the loop. For (2), @tf.function has experimental_relax_shapes=True option that relaxes argument shapes that can avoid unnecessary retracing. For (3), please refer to https://www.tensorflow.org/guide/function#controlling_retracing and https://www.tensorflow.org/api_docs/python/tf/function for  more details.\n"
     ]
    },
    {
     "data": {
      "image/png": "[encoded data removed]",
      "text/plain": [
       "<Figure size 432x288 with 1 Axes>"
      ]
     },
     "metadata": {},
     "output_type": "display_data"
    }
   ],
   "source": [
    "pred = model.predict(x_test)\n",
    "\n",
    "fig = plt.figure(facecolor='white')\n",
    "ax = fig.add_subplot(1,1,1)\n",
    "ax.plot(y_test,label='True')\n",
    "ax.plot(pred, label='prediction')\n",
    "ax.legend()\n",
    "plt.show()"
   ]
  }
 ],
 "metadata": {
  "kernelspec": {
   "display_name": "Python 3",
   "language": "python",
   "name": "python3"
  },
  "language_info": {
   "codemirror_mode": {
    "name": "ipython",
    "version": 3
   },
   "file_extension": ".py",
   "mimetype": "text/x-python",
   "name": "python",
   "nbconvert_exporter": "python",
   "pygments_lexer": "ipython3",
   "version": "3.8.5"
  }
 },
 "nbformat": 4,
 "nbformat_minor": 5
}
